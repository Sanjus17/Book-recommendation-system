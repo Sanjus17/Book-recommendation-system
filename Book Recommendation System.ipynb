{
 "cells": [
  {
   "cell_type": "markdown",
   "id": "fceedf79",
   "metadata": {},
   "source": [
    "# Book Recommendation System\n",
    "###  [Dataset](https://www.kaggle.com/datasets/arashnic/book-recommendation-dataset?resource=download)"
   ]
  },
  {
   "cell_type": "code",
   "execution_count": 225,
   "id": "837be272",
   "metadata": {},
   "outputs": [
    {
     "name": "stderr",
     "output_type": "stream",
     "text": [
      "C:\\Users\\krylt\\AppData\\Local\\Temp\\ipykernel_2348\\2595514696.py:3: DtypeWarning: Columns (3) have mixed types. Specify dtype option on import or set low_memory=False.\n",
      "  books = pd.read_csv(\"Books.csv\")\n"
     ]
    }
   ],
   "source": [
    "import pandas as pd\n",
    "\n",
    "books = pd.read_csv(\"Books.csv\")\n",
    "ratings = pd.read_csv(\"Ratings.csv\")\n",
    "users = pd.read_csv(\"Users.csv\")"
   ]
  },
  {
   "cell_type": "markdown",
   "id": "b31d435f",
   "metadata": {},
   "source": [
    "## Подготовка данных"
   ]
  },
  {
   "cell_type": "markdown",
   "id": "0119ae02-53aa-4348-ab25-aff931b828aa",
   "metadata": {},
   "source": [
    "### Books"
   ]
  },
  {
   "cell_type": "code",
   "execution_count": 227,
   "id": "80305455",
   "metadata": {},
   "outputs": [
    {
     "name": "stdout",
     "output_type": "stream",
     "text": [
      "<class 'pandas.core.frame.DataFrame'>\n",
      "RangeIndex: 271360 entries, 0 to 271359\n",
      "Data columns (total 8 columns):\n",
      " #   Column               Non-Null Count   Dtype \n",
      "---  ------               --------------   ----- \n",
      " 0   ISBN                 271360 non-null  object\n",
      " 1   Book-Title           271360 non-null  object\n",
      " 2   Book-Author          271358 non-null  object\n",
      " 3   Year-Of-Publication  271360 non-null  object\n",
      " 4   Publisher            271358 non-null  object\n",
      " 5   Image-URL-S          271360 non-null  object\n",
      " 6   Image-URL-M          271360 non-null  object\n",
      " 7   Image-URL-L          271357 non-null  object\n",
      "dtypes: object(8)\n",
      "memory usage: 16.6+ MB\n"
     ]
    }
   ],
   "source": [
    "books.info()"
   ]
  },
  {
   "cell_type": "code",
   "execution_count": 229,
   "id": "d5a5623a",
   "metadata": {},
   "outputs": [],
   "source": [
    "books = books.drop(['Publisher', 'Image-URL-S', 'Image-URL-M', 'Image-URL-L'], axis=1)\n",
    "books.rename(columns={'Book-Author': 'Author', 'Year-Of-Publication': 'Year'}, inplace=True)\n",
    "books.dropna(subset=['Author'], inplace=True)\n",
    "books = books.drop_duplicates(subset='Book-Title')"
   ]
  },
  {
   "cell_type": "code",
   "execution_count": 231,
   "id": "1011fbe2",
   "metadata": {},
   "outputs": [],
   "source": [
    "books['Year'] = pd.to_numeric(books['Year'], errors='coerce')\n",
    "books['Year'] = books['Year'].map(lambda x: books['Year'].median() if x == 0 else x)\n",
    "\n",
    "books_copy = books.copy()\n",
    "\n",
    "books['Author'] = pd.factorize(books['Author'])[0].astype(int)"
   ]
  },
  {
   "cell_type": "code",
   "execution_count": 232,
   "id": "b32f6d52",
   "metadata": {},
   "outputs": [
    {
     "name": "stdout",
     "output_type": "stream",
     "text": [
      "<class 'pandas.core.frame.DataFrame'>\n",
      "Index: 242133 entries, 0 to 271359\n",
      "Data columns (total 4 columns):\n",
      " #   Column      Non-Null Count   Dtype  \n",
      "---  ------      --------------   -----  \n",
      " 0   ISBN        242133 non-null  object \n",
      " 1   Book-Title  242133 non-null  object \n",
      " 2   Author      242133 non-null  int32  \n",
      " 3   Year        242130 non-null  float64\n",
      "dtypes: float64(1), int32(1), object(2)\n",
      "memory usage: 8.3+ MB\n"
     ]
    }
   ],
   "source": [
    "books.info()"
   ]
  },
  {
   "cell_type": "code",
   "execution_count": 53,
   "id": "4f4ca37a",
   "metadata": {},
   "outputs": [
    {
     "data": {
      "text/html": [
       "<div>\n",
       "<style scoped>\n",
       "    .dataframe tbody tr th:only-of-type {\n",
       "        vertical-align: middle;\n",
       "    }\n",
       "\n",
       "    .dataframe tbody tr th {\n",
       "        vertical-align: top;\n",
       "    }\n",
       "\n",
       "    .dataframe thead th {\n",
       "        text-align: right;\n",
       "    }\n",
       "</style>\n",
       "<table border=\"1\" class=\"dataframe\">\n",
       "  <thead>\n",
       "    <tr style=\"text-align: right;\">\n",
       "      <th></th>\n",
       "      <th>ISBN</th>\n",
       "      <th>Book-Title</th>\n",
       "      <th>Author</th>\n",
       "      <th>Year</th>\n",
       "    </tr>\n",
       "  </thead>\n",
       "  <tbody>\n",
       "    <tr>\n",
       "      <th>0</th>\n",
       "      <td>0195153448</td>\n",
       "      <td>Classical Mythology</td>\n",
       "      <td>0</td>\n",
       "      <td>2002.0</td>\n",
       "    </tr>\n",
       "    <tr>\n",
       "      <th>1</th>\n",
       "      <td>0002005018</td>\n",
       "      <td>Clara Callan</td>\n",
       "      <td>1</td>\n",
       "      <td>2001.0</td>\n",
       "    </tr>\n",
       "    <tr>\n",
       "      <th>2</th>\n",
       "      <td>0060973129</td>\n",
       "      <td>Decision in Normandy</td>\n",
       "      <td>2</td>\n",
       "      <td>1991.0</td>\n",
       "    </tr>\n",
       "    <tr>\n",
       "      <th>3</th>\n",
       "      <td>0374157065</td>\n",
       "      <td>Flu: The Story of the Great Influenza Pandemic...</td>\n",
       "      <td>3</td>\n",
       "      <td>1999.0</td>\n",
       "    </tr>\n",
       "    <tr>\n",
       "      <th>4</th>\n",
       "      <td>0393045218</td>\n",
       "      <td>The Mummies of Urumchi</td>\n",
       "      <td>4</td>\n",
       "      <td>1999.0</td>\n",
       "    </tr>\n",
       "  </tbody>\n",
       "</table>\n",
       "</div>"
      ],
      "text/plain": [
       "         ISBN                                         Book-Title  Author  \\\n",
       "0  0195153448                                Classical Mythology       0   \n",
       "1  0002005018                                       Clara Callan       1   \n",
       "2  0060973129                               Decision in Normandy       2   \n",
       "3  0374157065  Flu: The Story of the Great Influenza Pandemic...       3   \n",
       "4  0393045218                             The Mummies of Urumchi       4   \n",
       "\n",
       "     Year  \n",
       "0  2002.0  \n",
       "1  2001.0  \n",
       "2  1991.0  \n",
       "3  1999.0  \n",
       "4  1999.0  "
      ]
     },
     "execution_count": 53,
     "metadata": {},
     "output_type": "execute_result"
    }
   ],
   "source": [
    "books.head()"
   ]
  },
  {
   "cell_type": "markdown",
   "id": "7c8a962c",
   "metadata": {},
   "source": [
    "### Users"
   ]
  },
  {
   "cell_type": "code",
   "execution_count": 55,
   "id": "63c29130",
   "metadata": {},
   "outputs": [
    {
     "name": "stdout",
     "output_type": "stream",
     "text": [
      "<class 'pandas.core.frame.DataFrame'>\n",
      "RangeIndex: 278858 entries, 0 to 278857\n",
      "Data columns (total 3 columns):\n",
      " #   Column    Non-Null Count   Dtype  \n",
      "---  ------    --------------   -----  \n",
      " 0   User-ID   278858 non-null  int64  \n",
      " 1   Location  278858 non-null  object \n",
      " 2   Age       168096 non-null  float64\n",
      "dtypes: float64(1), int64(1), object(1)\n",
      "memory usage: 6.4+ MB\n"
     ]
    }
   ],
   "source": [
    "users.info()"
   ]
  },
  {
   "cell_type": "code",
   "execution_count": 56,
   "id": "202d5b35",
   "metadata": {},
   "outputs": [],
   "source": [
    "users['Location'] = pd.factorize(users['Location'])[0]\n",
    "\n",
    "users['Age'] = users['Age'].fillna(users['Age'].median())"
   ]
  },
  {
   "cell_type": "code",
   "execution_count": 57,
   "id": "2f07ac44",
   "metadata": {},
   "outputs": [
    {
     "name": "stdout",
     "output_type": "stream",
     "text": [
      "<class 'pandas.core.frame.DataFrame'>\n",
      "RangeIndex: 278858 entries, 0 to 278857\n",
      "Data columns (total 3 columns):\n",
      " #   Column    Non-Null Count   Dtype  \n",
      "---  ------    --------------   -----  \n",
      " 0   User-ID   278858 non-null  int64  \n",
      " 1   Location  278858 non-null  int64  \n",
      " 2   Age       278858 non-null  float64\n",
      "dtypes: float64(1), int64(2)\n",
      "memory usage: 6.4 MB\n"
     ]
    }
   ],
   "source": [
    "users.info()"
   ]
  },
  {
   "cell_type": "code",
   "execution_count": 58,
   "id": "7ddd8758",
   "metadata": {},
   "outputs": [
    {
     "data": {
      "text/html": [
       "<div>\n",
       "<style scoped>\n",
       "    .dataframe tbody tr th:only-of-type {\n",
       "        vertical-align: middle;\n",
       "    }\n",
       "\n",
       "    .dataframe tbody tr th {\n",
       "        vertical-align: top;\n",
       "    }\n",
       "\n",
       "    .dataframe thead th {\n",
       "        text-align: right;\n",
       "    }\n",
       "</style>\n",
       "<table border=\"1\" class=\"dataframe\">\n",
       "  <thead>\n",
       "    <tr style=\"text-align: right;\">\n",
       "      <th></th>\n",
       "      <th>User-ID</th>\n",
       "      <th>Location</th>\n",
       "      <th>Age</th>\n",
       "    </tr>\n",
       "  </thead>\n",
       "  <tbody>\n",
       "    <tr>\n",
       "      <th>0</th>\n",
       "      <td>1</td>\n",
       "      <td>0</td>\n",
       "      <td>32.0</td>\n",
       "    </tr>\n",
       "    <tr>\n",
       "      <th>1</th>\n",
       "      <td>2</td>\n",
       "      <td>1</td>\n",
       "      <td>18.0</td>\n",
       "    </tr>\n",
       "    <tr>\n",
       "      <th>2</th>\n",
       "      <td>3</td>\n",
       "      <td>2</td>\n",
       "      <td>32.0</td>\n",
       "    </tr>\n",
       "    <tr>\n",
       "      <th>3</th>\n",
       "      <td>4</td>\n",
       "      <td>3</td>\n",
       "      <td>17.0</td>\n",
       "    </tr>\n",
       "    <tr>\n",
       "      <th>4</th>\n",
       "      <td>5</td>\n",
       "      <td>4</td>\n",
       "      <td>32.0</td>\n",
       "    </tr>\n",
       "  </tbody>\n",
       "</table>\n",
       "</div>"
      ],
      "text/plain": [
       "   User-ID  Location   Age\n",
       "0        1         0  32.0\n",
       "1        2         1  18.0\n",
       "2        3         2  32.0\n",
       "3        4         3  17.0\n",
       "4        5         4  32.0"
      ]
     },
     "execution_count": 58,
     "metadata": {},
     "output_type": "execute_result"
    }
   ],
   "source": [
    "users.head()"
   ]
  },
  {
   "cell_type": "markdown",
   "id": "51d481e4",
   "metadata": {},
   "source": [
    "### Ratings"
   ]
  },
  {
   "cell_type": "code",
   "execution_count": 63,
   "id": "f3465f7d",
   "metadata": {},
   "outputs": [
    {
     "name": "stdout",
     "output_type": "stream",
     "text": [
      "<class 'pandas.core.frame.DataFrame'>\n",
      "Index: 433671 entries, 1 to 1149779\n",
      "Data columns (total 3 columns):\n",
      " #   Column       Non-Null Count   Dtype \n",
      "---  ------       --------------   ----- \n",
      " 0   User-ID      433671 non-null  int64 \n",
      " 1   ISBN         433671 non-null  object\n",
      " 2   Book-Rating  433671 non-null  int64 \n",
      "dtypes: int64(2), object(1)\n",
      "memory usage: 13.2+ MB\n"
     ]
    }
   ],
   "source": [
    "ratings = ratings[ratings['Book-Rating'] != 0]\n",
    "rows = ratings.shape[0]\n",
    "ratings.info()"
   ]
  },
  {
   "cell_type": "code",
   "execution_count": 64,
   "id": "be25a103",
   "metadata": {},
   "outputs": [
    {
     "data": {
      "text/html": [
       "<div>\n",
       "<style scoped>\n",
       "    .dataframe tbody tr th:only-of-type {\n",
       "        vertical-align: middle;\n",
       "    }\n",
       "\n",
       "    .dataframe tbody tr th {\n",
       "        vertical-align: top;\n",
       "    }\n",
       "\n",
       "    .dataframe thead th {\n",
       "        text-align: right;\n",
       "    }\n",
       "</style>\n",
       "<table border=\"1\" class=\"dataframe\">\n",
       "  <thead>\n",
       "    <tr style=\"text-align: right;\">\n",
       "      <th></th>\n",
       "      <th>User-ID</th>\n",
       "      <th>ISBN</th>\n",
       "      <th>Book-Rating</th>\n",
       "    </tr>\n",
       "  </thead>\n",
       "  <tbody>\n",
       "    <tr>\n",
       "      <th>1</th>\n",
       "      <td>276726</td>\n",
       "      <td>0155061224</td>\n",
       "      <td>5</td>\n",
       "    </tr>\n",
       "    <tr>\n",
       "      <th>3</th>\n",
       "      <td>276729</td>\n",
       "      <td>052165615X</td>\n",
       "      <td>3</td>\n",
       "    </tr>\n",
       "    <tr>\n",
       "      <th>4</th>\n",
       "      <td>276729</td>\n",
       "      <td>0521795028</td>\n",
       "      <td>6</td>\n",
       "    </tr>\n",
       "    <tr>\n",
       "      <th>6</th>\n",
       "      <td>276736</td>\n",
       "      <td>3257224281</td>\n",
       "      <td>8</td>\n",
       "    </tr>\n",
       "    <tr>\n",
       "      <th>7</th>\n",
       "      <td>276737</td>\n",
       "      <td>0600570967</td>\n",
       "      <td>6</td>\n",
       "    </tr>\n",
       "  </tbody>\n",
       "</table>\n",
       "</div>"
      ],
      "text/plain": [
       "   User-ID        ISBN  Book-Rating\n",
       "1   276726  0155061224            5\n",
       "3   276729  052165615X            3\n",
       "4   276729  0521795028            6\n",
       "6   276736  3257224281            8\n",
       "7   276737  0600570967            6"
      ]
     },
     "execution_count": 64,
     "metadata": {},
     "output_type": "execute_result"
    }
   ],
   "source": [
    "ratings.head()"
   ]
  },
  {
   "cell_type": "markdown",
   "id": "cad2cb44",
   "metadata": {},
   "source": [
    "### Объединение датасетов"
   ]
  },
  {
   "cell_type": "code",
   "execution_count": 126,
   "id": "a4025e5d",
   "metadata": {},
   "outputs": [
    {
     "data": {
      "text/html": [
       "<div>\n",
       "<style scoped>\n",
       "    .dataframe tbody tr th:only-of-type {\n",
       "        vertical-align: middle;\n",
       "    }\n",
       "\n",
       "    .dataframe tbody tr th {\n",
       "        vertical-align: top;\n",
       "    }\n",
       "\n",
       "    .dataframe thead th {\n",
       "        text-align: right;\n",
       "    }\n",
       "</style>\n",
       "<table border=\"1\" class=\"dataframe\">\n",
       "  <thead>\n",
       "    <tr style=\"text-align: right;\">\n",
       "      <th></th>\n",
       "      <th>User-ID</th>\n",
       "      <th>ISBN</th>\n",
       "      <th>Book-Rating</th>\n",
       "      <th>Location</th>\n",
       "      <th>Age</th>\n",
       "      <th>Book-Title</th>\n",
       "      <th>Author</th>\n",
       "      <th>Year</th>\n",
       "    </tr>\n",
       "  </thead>\n",
       "  <tbody>\n",
       "    <tr>\n",
       "      <th>0</th>\n",
       "      <td>276729</td>\n",
       "      <td>052165615X</td>\n",
       "      <td>3</td>\n",
       "      <td>4171</td>\n",
       "      <td>16.0</td>\n",
       "      <td>Help!: Level 1</td>\n",
       "      <td>89642</td>\n",
       "      <td>1999.0</td>\n",
       "    </tr>\n",
       "    <tr>\n",
       "      <th>1</th>\n",
       "      <td>276729</td>\n",
       "      <td>0521795028</td>\n",
       "      <td>6</td>\n",
       "      <td>4171</td>\n",
       "      <td>16.0</td>\n",
       "      <td>The Amsterdam Connection : Level 4 (Cambridge ...</td>\n",
       "      <td>30205</td>\n",
       "      <td>2001.0</td>\n",
       "    </tr>\n",
       "    <tr>\n",
       "      <th>2</th>\n",
       "      <td>276747</td>\n",
       "      <td>0060517794</td>\n",
       "      <td>9</td>\n",
       "      <td>410</td>\n",
       "      <td>25.0</td>\n",
       "      <td>Little Altars Everywhere</td>\n",
       "      <td>127</td>\n",
       "      <td>2003.0</td>\n",
       "    </tr>\n",
       "    <tr>\n",
       "      <th>3</th>\n",
       "      <td>276747</td>\n",
       "      <td>0671537458</td>\n",
       "      <td>9</td>\n",
       "      <td>410</td>\n",
       "      <td>25.0</td>\n",
       "      <td>Waiting to Exhale</td>\n",
       "      <td>1333</td>\n",
       "      <td>1995.0</td>\n",
       "    </tr>\n",
       "    <tr>\n",
       "      <th>4</th>\n",
       "      <td>276747</td>\n",
       "      <td>0679776818</td>\n",
       "      <td>8</td>\n",
       "      <td>410</td>\n",
       "      <td>25.0</td>\n",
       "      <td>Birdsong: A Novel of Love and War</td>\n",
       "      <td>1141</td>\n",
       "      <td>1997.0</td>\n",
       "    </tr>\n",
       "    <tr>\n",
       "      <th>...</th>\n",
       "      <td>...</td>\n",
       "      <td>...</td>\n",
       "      <td>...</td>\n",
       "      <td>...</td>\n",
       "      <td>...</td>\n",
       "      <td>...</td>\n",
       "      <td>...</td>\n",
       "      <td>...</td>\n",
       "    </tr>\n",
       "    <tr>\n",
       "      <th>328228</th>\n",
       "      <td>276704</td>\n",
       "      <td>0743211383</td>\n",
       "      <td>7</td>\n",
       "      <td>1823</td>\n",
       "      <td>32.0</td>\n",
       "      <td>Dreamcatcher</td>\n",
       "      <td>119</td>\n",
       "      <td>2001.0</td>\n",
       "    </tr>\n",
       "    <tr>\n",
       "      <th>328229</th>\n",
       "      <td>276704</td>\n",
       "      <td>0806917695</td>\n",
       "      <td>5</td>\n",
       "      <td>1823</td>\n",
       "      <td>32.0</td>\n",
       "      <td>Perplexing Lateral Thinking Puzzles: Scholasti...</td>\n",
       "      <td>1635</td>\n",
       "      <td>1997.0</td>\n",
       "    </tr>\n",
       "    <tr>\n",
       "      <th>328230</th>\n",
       "      <td>276704</td>\n",
       "      <td>1563526298</td>\n",
       "      <td>9</td>\n",
       "      <td>1823</td>\n",
       "      <td>32.0</td>\n",
       "      <td>Get Clark Smart : The Ultimate Guide for the S...</td>\n",
       "      <td>22982</td>\n",
       "      <td>2000.0</td>\n",
       "    </tr>\n",
       "    <tr>\n",
       "      <th>328231</th>\n",
       "      <td>276709</td>\n",
       "      <td>0515107662</td>\n",
       "      <td>10</td>\n",
       "      <td>52320</td>\n",
       "      <td>38.0</td>\n",
       "      <td>The Sherbrooke Bride (Bride Trilogy (Paperback))</td>\n",
       "      <td>452</td>\n",
       "      <td>1996.0</td>\n",
       "    </tr>\n",
       "    <tr>\n",
       "      <th>328232</th>\n",
       "      <td>276721</td>\n",
       "      <td>0590442449</td>\n",
       "      <td>10</td>\n",
       "      <td>523</td>\n",
       "      <td>14.0</td>\n",
       "      <td>Fourth Grade Rats</td>\n",
       "      <td>3163</td>\n",
       "      <td>1996.0</td>\n",
       "    </tr>\n",
       "  </tbody>\n",
       "</table>\n",
       "<p>328233 rows × 8 columns</p>\n",
       "</div>"
      ],
      "text/plain": [
       "        User-ID        ISBN  Book-Rating  Location   Age  \\\n",
       "0        276729  052165615X            3      4171  16.0   \n",
       "1        276729  0521795028            6      4171  16.0   \n",
       "2        276747  0060517794            9       410  25.0   \n",
       "3        276747  0671537458            9       410  25.0   \n",
       "4        276747  0679776818            8       410  25.0   \n",
       "...         ...         ...          ...       ...   ...   \n",
       "328228   276704  0743211383            7      1823  32.0   \n",
       "328229   276704  0806917695            5      1823  32.0   \n",
       "328230   276704  1563526298            9      1823  32.0   \n",
       "328231   276709  0515107662           10     52320  38.0   \n",
       "328232   276721  0590442449           10       523  14.0   \n",
       "\n",
       "                                               Book-Title  Author    Year  \n",
       "0                                          Help!: Level 1   89642  1999.0  \n",
       "1       The Amsterdam Connection : Level 4 (Cambridge ...   30205  2001.0  \n",
       "2                                Little Altars Everywhere     127  2003.0  \n",
       "3                                       Waiting to Exhale    1333  1995.0  \n",
       "4                       Birdsong: A Novel of Love and War    1141  1997.0  \n",
       "...                                                   ...     ...     ...  \n",
       "328228                                       Dreamcatcher     119  2001.0  \n",
       "328229  Perplexing Lateral Thinking Puzzles: Scholasti...    1635  1997.0  \n",
       "328230  Get Clark Smart : The Ultimate Guide for the S...   22982  2000.0  \n",
       "328231   The Sherbrooke Bride (Bride Trilogy (Paperback))     452  1996.0  \n",
       "328232                                  Fourth Grade Rats    3163  1996.0  \n",
       "\n",
       "[328233 rows x 8 columns]"
      ]
     },
     "execution_count": 126,
     "metadata": {},
     "output_type": "execute_result"
    }
   ],
   "source": [
    "df = ratings.merge(users, on='User-ID').merge(books, on='ISBN')\n",
    "df"
   ]
  },
  {
   "cell_type": "code",
   "execution_count": 132,
   "id": "8ae72946",
   "metadata": {},
   "outputs": [
    {
     "name": "stdout",
     "output_type": "stream",
     "text": [
      "<class 'pandas.core.frame.DataFrame'>\n",
      "Index: 328232 entries, 0 to 328232\n",
      "Data columns (total 8 columns):\n",
      " #   Column       Non-Null Count   Dtype  \n",
      "---  ------       --------------   -----  \n",
      " 0   User-ID      328232 non-null  int64  \n",
      " 1   ISBN         328232 non-null  object \n",
      " 2   Book-Rating  328232 non-null  int64  \n",
      " 3   Location     328232 non-null  int64  \n",
      " 4   Age          328232 non-null  float64\n",
      " 5   Book-Title   328232 non-null  object \n",
      " 6   Author       328232 non-null  int32  \n",
      " 7   Year         328232 non-null  float64\n",
      "dtypes: float64(2), int32(1), int64(3), object(2)\n",
      "memory usage: 21.3+ MB\n"
     ]
    }
   ],
   "source": [
    "df.dropna(subset=['Year'], inplace=True)\n",
    "df.info()"
   ]
  },
  {
   "cell_type": "markdown",
   "id": "62cec7d1",
   "metadata": {},
   "source": [
    "## Контентная фильтрация"
   ]
  },
  {
   "cell_type": "code",
   "execution_count": 134,
   "id": "c97e86b3",
   "metadata": {},
   "outputs": [],
   "source": [
    "from sklearn.model_selection import train_test_split\n",
    "\n",
    "X = df[['Age', 'Location', 'Author', 'Book-Title', 'Year']]\n",
    "y = df['Book-Rating']\n",
    "\n",
    "X_train, X_test, y_train, y_test = train_test_split(X, y, test_size=0.3, random_state=21)\n",
    "X_test, X_val, y_test, y_val = train_test_split(X_test, y_test, test_size=0.5, random_state=22)"
   ]
  },
  {
   "cell_type": "code",
   "execution_count": 139,
   "id": "9dd20367",
   "metadata": {},
   "outputs": [
    {
     "name": "stdout",
     "output_type": "stream",
     "text": [
      "0:\tlearn: 1.8391759\ttest: 1.8439418\tbest: 1.8439418 (0)\ttotal: 298ms\tremaining: 3m 58s\n",
      "100:\tlearn: 1.7075490\ttest: 1.6802459\tbest: 1.6802459 (100)\ttotal: 12.5s\tremaining: 1m 26s\n",
      "200:\tlearn: 1.6949180\ttest: 1.6695222\tbest: 1.6695222 (200)\ttotal: 28.1s\tremaining: 1m 23s\n",
      "300:\tlearn: 1.6881729\ttest: 1.6653915\tbest: 1.6653915 (300)\ttotal: 43s\tremaining: 1m 11s\n",
      "400:\tlearn: 1.6800584\ttest: 1.6605012\tbest: 1.6605012 (400)\ttotal: 1m 3s\tremaining: 1m 3s\n",
      "500:\tlearn: 1.6740159\ttest: 1.6573980\tbest: 1.6573980 (500)\ttotal: 1m 23s\tremaining: 50.1s\n",
      "600:\tlearn: 1.6691389\ttest: 1.6556266\tbest: 1.6556266 (600)\ttotal: 1m 42s\tremaining: 33.8s\n",
      "700:\tlearn: 1.6647858\ttest: 1.6539557\tbest: 1.6539557 (700)\ttotal: 2m 1s\tremaining: 17.2s\n",
      "799:\tlearn: 1.6607174\ttest: 1.6529280\tbest: 1.6529280 (799)\ttotal: 2m 20s\tremaining: 0us\n",
      "\n",
      "bestTest = 1.652928037\n",
      "bestIteration = 799\n",
      "\n"
     ]
    },
    {
     "data": {
      "text/plain": [
       "<catboost.core.CatBoostRegressor at 0x2194df0ab40>"
      ]
     },
     "execution_count": 139,
     "metadata": {},
     "output_type": "execute_result"
    }
   ],
   "source": [
    "from catboost import CatBoostRegressor\n",
    "\n",
    "catboost = CatBoostRegressor(iterations=800,\n",
    "                             depth=9,\n",
    "                             learning_rate=0.04,\n",
    "                             verbose=100,\n",
    "                             cat_features=['Location', 'Author', 'Book-Title'])\n",
    "\n",
    "catboost.fit(X_train, y_train, eval_set=(X_val, y_val), early_stopping_rounds=50)"
   ]
  },
  {
   "cell_type": "code",
   "execution_count": 140,
   "id": "277faee3",
   "metadata": {},
   "outputs": [
    {
     "name": "stdout",
     "output_type": "stream",
     "text": [
      "RMSE: 1.6555737146571985\n"
     ]
    },
    {
     "name": "stderr",
     "output_type": "stream",
     "text": [
      "C:\\anaconda3\\Lib\\site-packages\\sklearn\\metrics\\_regression.py:492: FutureWarning: 'squared' is deprecated in version 1.4 and will be removed in 1.6. To calculate the root mean squared error, use the function'root_mean_squared_error'.\n",
      "  warnings.warn(\n"
     ]
    }
   ],
   "source": [
    "from sklearn.metrics import mean_squared_error\n",
    "\n",
    "y_pred = catboost.predict(X_test)\n",
    "print(\"RMSE:\", mean_squared_error(y_test, y_pred, squared=False))"
   ]
  },
  {
   "cell_type": "code",
   "execution_count": 191,
   "id": "d697de03",
   "metadata": {},
   "outputs": [],
   "source": [
    "def content_recommendations(user_id, model, books, users, n_recs=10, for_hybrid=False):\n",
    "    # Получаем данные о пользователе\n",
    "    user_info = users[users['User-ID'] == user_id].iloc[0]\n",
    "    user_location = int(user_info['Location'])\n",
    "    user_age = user_info['Age']\n",
    "    \n",
    "    # Создаём датафрейм с данными о пользователе и всех книгах\n",
    "    user_books = books.copy()\n",
    "    user_books['Age'] = user_age\n",
    "    user_books['Location'] = user_location\n",
    "    \n",
    "    # Предсказываем оценки\n",
    "    predictions = model.predict(user_books[['Age', 'Location', 'Author', 'Book-Title', 'Year']])\n",
    "    user_books = user_books.drop(['Age', 'Location'], axis=1)\n",
    "    user_books['Predicted-Rating'] = predictions\n",
    "    \n",
    "    if for_hybrid:\n",
    "        return user_books\n",
    "    \n",
    "    recommendations = user_books.sort_values(by='Predicted-Rating', ascending=False).head(n_recs)  \n",
    "    return recommendations"
   ]
  },
  {
   "cell_type": "code",
   "execution_count": 193,
   "id": "ac9de2bb",
   "metadata": {},
   "outputs": [
    {
     "name": "stdout",
     "output_type": "stream",
     "text": [
      "                                                 Book-Title  Predicted-Rating\n",
      "                                      To Kill a Mockingbird          8.471093\n",
      "                              Little House in the Big Woods          8.432988\n",
      "                                     How to Eat Fried Worms          8.432972\n",
      "                                 On the Banks of Plum Creek          8.427980\n",
      "Cat in the Hat (I Can Read It All by Myself Beginner Books)          8.390325\n",
      "                Secret Warning (Hardy Boys Mystery Stories)          8.385903\n",
      "                     Stuart Little 60th Anniversary Edition          8.377571\n",
      "                                         The Cat in the Hat          8.376445\n",
      "                                        Pippi Longstockings          8.375158\n",
      "                       Cyrano De Bergerac (Bantam Classics)          8.375158\n"
     ]
    }
   ],
   "source": [
    "recommendations = content_recommendations(user_id=276688, model=catboost, books=books_copy, users=users)\n",
    "print(recommendations[['Book-Title', 'Predicted-Rating']].to_string(index=False))"
   ]
  },
  {
   "cell_type": "markdown",
   "id": "df3630bb",
   "metadata": {},
   "source": [
    "## Коллаборативная фильтрация"
   ]
  },
  {
   "cell_type": "code",
   "execution_count": 65,
   "id": "4f0c0c26",
   "metadata": {},
   "outputs": [
    {
     "name": "stdout",
     "output_type": "stream",
     "text": [
      "<class 'pandas.core.frame.DataFrame'>\n",
      "Index: 433671 entries, 1 to 1149779\n",
      "Data columns (total 3 columns):\n",
      " #   Column       Non-Null Count   Dtype \n",
      "---  ------       --------------   ----- \n",
      " 0   User-ID      433671 non-null  int64 \n",
      " 1   ISBN         433671 non-null  object\n",
      " 2   Book-Rating  433671 non-null  int64 \n",
      "dtypes: int64(2), object(1)\n",
      "memory usage: 13.2+ MB\n"
     ]
    }
   ],
   "source": [
    "ratings.info()"
   ]
  },
  {
   "cell_type": "code",
   "execution_count": 76,
   "id": "c6495975",
   "metadata": {},
   "outputs": [
    {
     "name": "stdout",
     "output_type": "stream",
     "text": [
      "RMSE: 1.6405\n",
      "RMSE: 1.6404934557320365\n"
     ]
    }
   ],
   "source": [
    "from surprise import SVD, Dataset, Reader, accuracy\n",
    "from surprise.model_selection import train_test_split\n",
    "\n",
    "reader = Reader(rating_scale=(1, 10))\n",
    "data = Dataset.load_from_df(ratings[['User-ID', 'ISBN', 'Book-Rating']], reader)\n",
    "\n",
    "# Разделение данных\n",
    "trainset, testset = train_test_split(data, test_size=0.2)\n",
    "\n",
    "# Обучение модели SVD\n",
    "model = SVD(n_factors=50, n_epochs=20, lr_all=0.005, reg_all=0.02)\n",
    "model.fit(trainset)\n",
    "\n",
    "predictions = model.test(testset) \n",
    "print('RMSE:', accuracy.rmse(predictions))"
   ]
  },
  {
   "cell_type": "code",
   "execution_count": 211,
   "id": "06ef2b5a",
   "metadata": {},
   "outputs": [],
   "source": [
    "def collaborative_recommendations(user_id, n_recs=10, for_hybrid=False):\n",
    "    # Создаем список книг, которые пользователь еще не оценил\n",
    "    all_books = ratings['ISBN'].unique()\n",
    "    rated_books = ratings[ratings['User-ID'] == user_id]['ISBN'].values\n",
    "    unrated_books = [book_id for book_id in all_books if book_id not in rated_books]\n",
    "    \n",
    "    # Создаем список предсказанных рейтингов и преобразуем в DataFrame\n",
    "    predicted_ratings = []\n",
    "    \n",
    "    for book_id in unrated_books:\n",
    "        prediction = model.predict(user_id, book_id)\n",
    "        predicted_ratings.append((book_id, prediction.est))\n",
    "    \n",
    "    predicted_ratings_df = pd.DataFrame(predicted_ratings, columns=['ISBN', 'Predicted-Rating'])\n",
    "    # Сортируем и выбираем топ-N книг\n",
    "    top_books = predicted_ratings_df.sort_values(by='Predicted-Rating', ascending=False)\n",
    "    recommend_books = top_books.merge(books, on='ISBN')\n",
    "    \n",
    "    if for_hybrid:\n",
    "        return top_books\n",
    "    \n",
    "    return recommend_books[['Book-Title', 'Predicted-Rating']].head(n_recs)"
   ]
  },
  {
   "cell_type": "code",
   "execution_count": 213,
   "id": "67794d98",
   "metadata": {},
   "outputs": [
    {
     "name": "stdout",
     "output_type": "stream",
     "text": [
      "                                                      Book-Title  Predicted-Rating\n",
      "           Harry Potter and the Chamber of Secrets Postcard Book          9.474604\n",
      "Harry Potter and the Sorcerer's Stone (Harry Potter (Paperback))          9.370764\n",
      "                    My Sister's Keeper : A Novel (Picoult, Jodi)          9.361047\n",
      "                                                Love You Forever          9.329964\n",
      "                                        The Time Traveler's Wife          9.324130\n",
      "                                                   Lonesome Dove          9.300149\n",
      "                                   The Stand: Complete and Uncut          9.280658\n",
      "              Harry Potter and the Order of the Phoenix (Book 5)          9.278696\n",
      "                                        A Tree Grows in Brooklyn          9.274684\n",
      "                                               The Da Vinci Code          9.272303\n"
     ]
    }
   ],
   "source": [
    "recommendations = collaborative_recommendations(user_id=276688)\n",
    "print(recommendations.to_string(index=False))"
   ]
  },
  {
   "cell_type": "code",
   "execution_count": null,
   "id": "bf445123",
   "metadata": {},
   "outputs": [],
   "source": [
    "users_similarity_df"
   ]
  },
  {
   "cell_type": "markdown",
   "id": "0f66cf1b",
   "metadata": {},
   "source": [
    "## Гибридная фильтрация"
   ]
  },
  {
   "cell_type": "code",
   "execution_count": 215,
   "id": "a6d8b548",
   "metadata": {},
   "outputs": [],
   "source": [
    "def hybrid_recommendations(user_id, n_recs=10):\n",
    "    # Рекомендаций на основе коллаборативной фильтрации\n",
    "    collab_recs = collaborative_recommendations(user_id, for_hybrid=True)\n",
    "    # Рекомендаций на основе контентной фильтрации\n",
    "    content_recs = content_recommendations(user_id=user_id, model=catboost, books=books_copy, users=users, for_hybrid=True)\n",
    "    \n",
    "    # Объединяем результаты, вычисляя средний рейтинг\n",
    "    hybrid_recs = pd.merge(collab_recs, content_recs, on='ISBN', how='inner', suffixes=(' (collab)', ' (content)'))\n",
    "    hybrid_recs['Predicted-Rating'] = (hybrid_recs['Predicted-Rating (collab)'] + hybrid_recs['Predicted-Rating (content)']) / 2\n",
    "\n",
    "    recommendations = hybrid_recs.sort_values(by='Predicted-Rating', ascending=False).head(n_recs)\n",
    "    return recommendations"
   ]
  },
  {
   "cell_type": "code",
   "execution_count": 219,
   "id": "6e218ce6",
   "metadata": {},
   "outputs": [
    {
     "name": "stdout",
     "output_type": "stream",
     "text": [
      "                                                      Book-Title  Predicted-Rating\n",
      "Harry Potter and the Sorcerer's Stone (Harry Potter (Paperback))          8.830909\n",
      "                    My Sister's Keeper : A Novel (Picoult, Jodi)          8.815334\n",
      "           Harry Potter and the Chamber of Secrets Postcard Book          8.801925\n",
      "          The Return of the King (The Lord of the Rings, Part 3)          8.797213\n",
      "                                                Love You Forever          8.787701\n",
      "                                                           Night          8.785596\n",
      "    The Hobbit : The Enchanting Prelude to The Lord of the Rings          8.785547\n",
      "                                              The Cat in the Hat          8.782305\n",
      "              Harry Potter and the Order of the Phoenix (Book 5)          8.757841\n",
      "                                                   Lonesome Dove          8.757826\n"
     ]
    }
   ],
   "source": [
    "recommendations = hybrid_recommendations(user_id=276688)\n",
    "print(recommendations[['Book-Title', 'Predicted-Rating']].to_string(index=False))"
   ]
  }
 ],
 "metadata": {
  "kernelspec": {
   "display_name": "Scikit-surprise",
   "language": "python",
   "name": "base"
  },
  "language_info": {
   "codemirror_mode": {
    "name": "ipython",
    "version": 3
   },
   "file_extension": ".py",
   "mimetype": "text/x-python",
   "name": "python",
   "nbconvert_exporter": "python",
   "pygments_lexer": "ipython3",
   "version": "3.12.3"
  }
 },
 "nbformat": 4,
 "nbformat_minor": 5
}
